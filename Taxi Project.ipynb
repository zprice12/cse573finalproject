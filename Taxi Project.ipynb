{
 "cells": [
  {
   "cell_type": "markdown",
   "id": "2dcfd155",
   "metadata": {},
   "source": [
    "## Data Cleaning"
   ]
  },
  {
   "cell_type": "code",
   "execution_count": 1,
   "id": "fd58238c",
   "metadata": {},
   "outputs": [],
   "source": [
    "# Load packages\n",
    "import pandas as pd\n",
    "import numpy as np"
   ]
  },
  {
   "cell_type": "code",
   "execution_count": 2,
   "id": "72f73e91",
   "metadata": {},
   "outputs": [],
   "source": [
    "# Load 2021 and 2022 July yellow taxi data\n",
    "july21 = pd.read_parquet('/Users/zach/Personal Projects/CSE 573 Final Project/yellow_tripdata_2021-07.parquet', engine='pyarrow')\n",
    "july22 = pd.read_parquet('/Users/zach/Personal Projects/CSE 573 Final Project/yellow_tripdata_2022-07.parquet', engine='pyarrow')"
   ]
  },
  {
   "cell_type": "code",
   "execution_count": 4,
   "id": "ffeac9f5",
   "metadata": {},
   "outputs": [],
   "source": [
    "# Calculate the duration of the trip in seconds\n",
    "july21['tpep_pickup_datetime']= pd.to_datetime(july21['tpep_pickup_datetime'])\n",
    "july21['tpep_dropoff_datetime']= pd.to_datetime(july21['tpep_dropoff_datetime'])\n",
    "july21['duration'] = july21['tpep_dropoff_datetime'] - july21['tpep_pickup_datetime']\n",
    "july21['duration'] = july21['duration'].dt.total_seconds()\n",
    "\n",
    "july22['tpep_pickup_datetime']= pd.to_datetime(july22['tpep_pickup_datetime'])\n",
    "july22['tpep_dropoff_datetime']= pd.to_datetime(july22['tpep_dropoff_datetime'])\n",
    "july22['duration'] = july22['tpep_dropoff_datetime'] - july22['tpep_pickup_datetime']\n",
    "july22['duration'] = july22['duration'].dt.total_seconds()"
   ]
  },
  {
   "cell_type": "code",
   "execution_count": 5,
   "id": "88ff796b",
   "metadata": {},
   "outputs": [],
   "source": [
    "# Calculate start and end hours of the trip\n",
    "july21['start_hour'] = july21['tpep_pickup_datetime'].dt.hour\n",
    "july21['end_hour'] = july21['tpep_dropoff_datetime'].dt.hour\n",
    "\n",
    "july22['start_hour'] = july22['tpep_pickup_datetime'].dt.hour\n",
    "july22['end_hour'] = july22['tpep_dropoff_datetime'].dt.hour"
   ]
  },
  {
   "cell_type": "code",
   "execution_count": 6,
   "id": "93572067",
   "metadata": {},
   "outputs": [],
   "source": [
    "# Drop unwanted columns\n",
    "july21 = july21.drop(columns = ['VendorID', 'tpep_pickup_datetime', 'tpep_dropoff_datetime', 'store_and_fwd_flag', 'total_amount', ])\n",
    "\n",
    "july22 = july22.drop(columns = ['VendorID', 'tpep_pickup_datetime', 'tpep_dropoff_datetime', 'store_and_fwd_flag', 'total_amount', ])"
   ]
  },
  {
   "cell_type": "code",
   "execution_count": 7,
   "id": "1b9f4ffb",
   "metadata": {},
   "outputs": [],
   "source": [
    "# Drop rows with misleading values\n",
    "july21 = july21[july21['passenger_count'] > 0]\n",
    "july21 = july21[july21['passenger_count'] < 7]\n",
    "july21 = july21[july21['trip_distance'] > 0]\n",
    "july21 = july21[july21['fare_amount'] > 0]\n",
    "july21 = july21[july21['RatecodeID'] < 99]\n",
    "july21 = july21.dropna()\n",
    "july21 = july21.drop_duplicates()\n",
    "\n",
    "july22 = july22[july22['passenger_count'] > 0]\n",
    "july22 = july22[july22['passenger_count'] < 7]\n",
    "july22 = july22[july22['trip_distance'] > 0]\n",
    "july22 = july22[july22['fare_amount'] > 0]\n",
    "july22 = july22[july22['RatecodeID'] < 99]\n",
    "july22 = july22.dropna()\n",
    "july22 = july22.drop_duplicates()"
   ]
  },
  {
   "cell_type": "code",
   "execution_count": null,
   "id": "0d7808bb",
   "metadata": {},
   "outputs": [],
   "source": [
    "# Target encode payment_type and RatecodeID with mean of tip_amount\n",
    "means_payment = july21['tip_amount'].groupby(july21['payment_type']).agg(['mean'])\n",
    "july21['payment_type'] = july21['payment_type'].map({1:3.117323, 2:0.000038, 3:0.001095, 4:0.000919})\n",
    "means_ratecode = july21['tip_amount'].groupby(july21['RatecodeID']).agg(['mean'])\n",
    "july21['RatecodeID'] = july21['RatecodeID'].map({1.0:2.156033, 2.0:8.802659, 3.0:11.184761, 4.0:7.602690, 5.0:7.964534, 6.0:0})\n",
    "\n",
    "july22['payment_type'] = july22['payment_type'].map({1:3.117323, 2:0.000038, 3:0.001095, 4:0.000919})\n",
    "july22['RatecodeID'] = july22['RatecodeID'].map({1.0:2.156033, 2.0:8.802659, 3.0:11.184761, 4.0:7.602690, 5.0:7.964534, 6.0:0})"
   ]
  },
  {
   "cell_type": "code",
   "execution_count": null,
   "id": "bea43893",
   "metadata": {},
   "outputs": [],
   "source": [
    "# Split data sets into features and outcomes\n",
    "x_21 = july21.drop('tip_amount', axis=1)\n",
    "y_21 = july21['tip_amount']\n",
    "\n",
    "x_22 = july22.drop('tip_amount', axis=1)\n",
    "y_22 = july22['tip_amount']"
   ]
  },
  {
   "cell_type": "markdown",
   "id": "e543e3dc",
   "metadata": {},
   "source": [
    "## Linear Regression"
   ]
  },
  {
   "cell_type": "code",
   "execution_count": null,
   "id": "a398322e",
   "metadata": {},
   "outputs": [],
   "source": [
    "# Load required packages\n",
    "from sklearn.linear_model import LinearRegression\n",
    "from sklearn.metrics import mean_squared_error, mean_absolute_error"
   ]
  },
  {
   "cell_type": "code",
   "execution_count": null,
   "id": "0c687875",
   "metadata": {},
   "outputs": [],
   "source": [
    "# Train model, get predictions for July 2022, and calculate MSE\n",
    "linreg = LinearRegression()\n",
    "linreg.fit(x_21, y_21)\n",
    "linreg_preds = linreg.predict(x_22)\n",
    "linreg_mse = mean_squared_error(y_22, linreg_preds)\n",
    "linreg_mse"
   ]
  },
  {
   "cell_type": "markdown",
   "id": "4ef48a54",
   "metadata": {},
   "source": [
    "## Ridge Regression"
   ]
  },
  {
   "cell_type": "code",
   "execution_count": null,
   "id": "bbc41714",
   "metadata": {},
   "outputs": [],
   "source": [
    "# Load required package\n",
    "from sklearn.linear_model import Ridge"
   ]
  },
  {
   "cell_type": "code",
   "execution_count": null,
   "id": "1b2024f4",
   "metadata": {},
   "outputs": [],
   "source": [
    "# Train model, get predictions for July 2022, and calculate MSE\n",
    "ridgereg = Ridge(alpha = 0.5)\n",
    "ridgereg.fit(x_21, y_21)\n",
    "ridgereg_preds = ridgereg.predict(x_22)\n",
    "ridgereg_mse = mean_squared_error(y_22, ridgereg_preds)\n",
    "ridgereg_mse"
   ]
  },
  {
   "cell_type": "markdown",
   "id": "ecc2b1b1",
   "metadata": {},
   "source": [
    "## Gradient Boosted Tree"
   ]
  },
  {
   "cell_type": "code",
   "execution_count": null,
   "id": "e2dedd21",
   "metadata": {},
   "outputs": [],
   "source": [
    "# Load required packages\n",
    "import xgboost as xgb\n",
    "import sklearn.model_selection as skl\n",
    "import sklearn.preprocessing as sklp\n",
    "import sklearn.decomposition as skld\n",
    "from sklearn.model_selection import train_test_split"
   ]
  },
  {
   "cell_type": "code",
   "execution_count": null,
   "id": "fb0515f9",
   "metadata": {},
   "outputs": [],
   "source": [
    "# Split train data into train and validation\n",
    "x_train, x_val, y_train, y_val = train_test_split(x_21, y_21, test_size = 0.2)"
   ]
  },
  {
   "cell_type": "code",
   "execution_count": null,
   "id": "15c22224",
   "metadata": {},
   "outputs": [],
   "source": [
    "# Fit model and check cross validation accuracy\n",
    "param_tuning = pd.DataFrame(data={'learning': [], 'depth': [], 'child_weight':[],'mse':[]})\n",
    "\n",
    "for i in [0.01,0.05,0.1]:\n",
    "    for j in [1,3,5,7,10,15]:\n",
    "        for k in [1,2,3,4,5]:\n",
    "            xg_model = xgb.XGBRegressor(objective='reg:squarederror', booster='gbtree', gamma=0.05, \n",
    "                             learning_rate=i, colsample_bytree = 0.7, max_depth=j, \n",
    "                             min_child_weight=k, n_estimators=250)\n",
    "            xg_model.fit(x_train, y_train)\n",
    "            val_preds = xg_model.predict(x_val)\n",
    "            mse = mean_squared_error(y_val, val_preds)\n",
    "            param_tuning.loc[len(param_tuning.index)] = [i,j,k,mse] \n",
    "            print(\"SE: %.2f\" % mse)"
   ]
  },
  {
   "cell_type": "code",
   "execution_count": null,
   "id": "3722a40a",
   "metadata": {},
   "outputs": [],
   "source": [
    "# Save parameter tuning table\n",
    "param_tuning.to_csv(r'/Users/zach/Personal Projects/CSE 573 Final Project/param_tuning.csv', index=False)"
   ]
  },
  {
   "cell_type": "code",
   "execution_count": null,
   "id": "72c5694b",
   "metadata": {},
   "outputs": [],
   "source": [
    "# Fit model on tuned hyperparameters and calculate MSE for July 2022\n",
    "param_tuning = pd.read_csv('/Users/zach/Personal Projects/CSE 573 Final Project/param_tuning.csv')\n",
    "best = param_tuning.loc[param_tuning['mse'].idxmin()]\n",
    "xg_model = xgb.XGBRegressor(objective='reg:squarederror', booster='gbtree', gamma=0.05, \n",
    "                             learning_rate=best[0], colsample_bytree = 0.7, max_depth=best[1].astype(int), \n",
    "                             min_child_weight=best[2].astype(int), n_estimators=250)\n",
    "xg_model.fit(x_21, y_21)\n",
    "xg_preds = xg_model.predict(x_22)\n",
    "xg_mse = mean_squared_error(y_22, xg_preds)\n",
    "xg_mse"
   ]
  },
  {
   "cell_type": "markdown",
   "id": "b8859975",
   "metadata": {},
   "source": [
    "## K-Nearest Neighbors"
   ]
  },
  {
   "cell_type": "code",
   "execution_count": null,
   "id": "89e1bd4d",
   "metadata": {},
   "outputs": [],
   "source": [
    "# Load required package\n",
    "from sklearn.neighbors import KNeighborsRegressor"
   ]
  },
  {
   "cell_type": "code",
   "execution_count": null,
   "id": "5b448020",
   "metadata": {},
   "outputs": [],
   "source": [
    "# Train model, get predictions for July 2022, and calculate MSE\n",
    "knn = KNeighborsRegressor(n_neighbors=10)\n",
    "knn.fit(x_21, y_21)\n",
    "knn_preds = knn.predict(x_22)\n",
    "knn_mse = mean_squared_error(y_22, knn_preds)\n",
    "knn_mse"
   ]
  },
  {
   "cell_type": "markdown",
   "id": "1ea68062",
   "metadata": {},
   "source": [
    "## Decision Tree"
   ]
  },
  {
   "cell_type": "code",
   "execution_count": null,
   "id": "8d7d6fab",
   "metadata": {},
   "outputs": [],
   "source": [
    "# Load required package\n",
    "from sklearn.tree import DecisionTreeRegressor"
   ]
  },
  {
   "cell_type": "code",
   "execution_count": null,
   "id": "46f3d687",
   "metadata": {},
   "outputs": [],
   "source": [
    "# Train model, get predictions for July 2022, and calculate MSE\n",
    "decT = DecisionTreeRegressor(criterion='squared_error', max_depth=15, min_samples_leaf=4, min_impurity_decrease=0.001)\n",
    "decT.fit(x_21, y_21)\n",
    "decT_preds = decT.predict(x_22)\n",
    "decT_mse = mean_squared_error(y_22, decT_preds)\n",
    "decT_mse"
   ]
  },
  {
   "cell_type": "markdown",
   "id": "e5e6f933",
   "metadata": {},
   "source": [
    "## Random Forest"
   ]
  },
  {
   "cell_type": "code",
   "execution_count": null,
   "id": "a4a4a50f",
   "metadata": {},
   "outputs": [],
   "source": [
    "# Load required package\n",
    "from sklearn.ensemble import RandomForestRegressor"
   ]
  },
  {
   "cell_type": "code",
   "execution_count": null,
   "id": "8c0ec0f4",
   "metadata": {},
   "outputs": [],
   "source": [
    "# Train model, get predictions for July 2022, and calculate MSE\n",
    "rfT = RandomForestRegressor(criterion='squared_error', max_depth=15, min_samples_leaf=4, max_features=0.75) \n",
    "rfT.fit(x_21, y_21)\n",
    "rfT_preds = rfT.predict(x_22)\n",
    "rfT_mse = mean_squared_error(y_22, rfT_preds)\n",
    "rfT_mse"
   ]
  },
  {
   "cell_type": "markdown",
   "id": "32d1394c",
   "metadata": {},
   "source": [
    "## Support Vector Machine"
   ]
  },
  {
   "cell_type": "code",
   "execution_count": null,
   "id": "ac5f9f9b",
   "metadata": {},
   "outputs": [],
   "source": [
    "# Load required packages\n",
    "from sklearn.preprocessing import StandardScaler\n",
    "from sklearn.svm import SVR"
   ]
  },
  {
   "cell_type": "code",
   "execution_count": null,
   "id": "d40eadc5",
   "metadata": {},
   "outputs": [],
   "source": [
    "# Scale features\n",
    "scX_21 = StandardScaler()\n",
    "scaledX_21 = scX_21.fit_transform(x_21)\n",
    "\n",
    "scX_22 = StandardScaler()\n",
    "scaledX_22 = scX_22.fit_transform(x_22)"
   ]
  },
  {
   "cell_type": "code",
   "execution_count": null,
   "id": "2cc00de3",
   "metadata": {},
   "outputs": [],
   "source": [
    "# Train model, get predictions for July 2022, and calculate MSE- Takes too long to run\n",
    "svmM = SVR(kernel='linear')\n",
    "svmM.fit(scaledX_21, y_21)\n",
    "svm_preds = svmM.predict(scaledX_22)\n",
    "svm_mse = mean_squared_error(y_22, svm_preds)\n",
    "svm_mse"
   ]
  },
  {
   "cell_type": "markdown",
   "id": "22b1126e",
   "metadata": {},
   "source": [
    "## Output"
   ]
  },
  {
   "cell_type": "code",
   "execution_count": null,
   "id": "80936d73",
   "metadata": {},
   "outputs": [],
   "source": [
    "# Create and output dataframe with model errors\n",
    "data = [['Linear Regression', linreg_mse], ['Ridge Regression', ridgereg_mse], ['XGBoost', xg_mse], ['KNN', knn_mse], ['Decision Tree', decT_mse], ['Random Forest', rfT_mse]]\n",
    "model_errors = pd.DataFrame(data, columns=['Model', 'MSE'])\n",
    "model_errors.to_csv(r'/Users/zach/Personal Projects/CSE 573 Final Project/model_errors.csv', index=False)\n"
   ]
  }
 ],
 "metadata": {
  "kernelspec": {
   "display_name": "Python 3 (ipykernel)",
   "language": "python",
   "name": "python3"
  },
  "language_info": {
   "codemirror_mode": {
    "name": "ipython",
    "version": 3
   },
   "file_extension": ".py",
   "mimetype": "text/x-python",
   "name": "python",
   "nbconvert_exporter": "python",
   "pygments_lexer": "ipython3",
   "version": "3.9.12"
  }
 },
 "nbformat": 4,
 "nbformat_minor": 5
}
